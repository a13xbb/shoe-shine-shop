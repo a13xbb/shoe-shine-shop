{
 "cells": [
  {
   "cell_type": "code",
   "execution_count": 1,
   "metadata": {},
   "outputs": [],
   "source": [
    "import threading\n",
    "import random\n",
    "import time"
   ]
  },
  {
   "cell_type": "code",
   "execution_count": 15,
   "metadata": {},
   "outputs": [],
   "source": [
    "N_CLIENTS = 20\n",
    "\n",
    "LAMBDA = 1\n",
    "MU1 = 1\n",
    "MU2 = 0.5\n",
    "\n",
    "LOGGING = True\n",
    "\n",
    "event = threading.Event()\n",
    "event.set()"
   ]
  },
  {
   "cell_type": "code",
   "execution_count": 3,
   "metadata": {},
   "outputs": [],
   "source": [
    "class Client:\n",
    "    def __init__(self, id):\n",
    "        self.id = id\n"
   ]
  },
  {
   "cell_type": "code",
   "execution_count": 4,
   "metadata": {},
   "outputs": [],
   "source": [
    "class Chair1:\n",
    "    def __init__(self):\n",
    "        self.is_busy = False\n",
    "    \n",
    "    def serving(self, client: Client):\n",
    "        random.seed()\n",
    "        ksi = random.expovariate(MU1)\n",
    "        self.is_busy = True\n",
    "        if LOGGING:\n",
    "            print(f'client {client.id} is starting serving on the 1 chair')\n",
    "        time.sleep(ksi)\n",
    "        if LOGGING:\n",
    "            print(f'client {client.id} finished serving on the 1 chair')\n",
    "    "
   ]
  },
  {
   "cell_type": "code",
   "execution_count": 5,
   "metadata": {},
   "outputs": [],
   "source": [
    "class Chair2:\n",
    "    def __init__(self):\n",
    "        self.is_busy = False\n",
    "    \n",
    "    def serving(self, client: Client):\n",
    "        random.seed()\n",
    "        ksi = random.expovariate(MU2)\n",
    "        self.is_busy = True\n",
    "        if LOGGING:\n",
    "            print(f'client {client.id} is starting serving on the 2 chair')\n",
    "        time.sleep(ksi)\n",
    "        if LOGGING:\n",
    "            print(f'client {client.id} finished serving on the 2 chair')"
   ]
  },
  {
   "cell_type": "code",
   "execution_count": 6,
   "metadata": {},
   "outputs": [],
   "source": [
    "def serving(client: Client, chair1: Chair1, chair2: Chair2):\n",
    "    if LOGGING:\n",
    "        print(f'CLIENT {client.id} STARTED SERVING')\n",
    "    chair1.serving(client)\n",
    "    if not event.is_set():\n",
    "        if LOGGING:\n",
    "            print(f'client {client.id} is waiting for chair 2')\n",
    "    event.wait()\n",
    "    event.clear()\n",
    "    chair1.is_busy = False\n",
    "    chair2.serving(client)\n",
    "    event.set()\n",
    "    if LOGGING:\n",
    "        print(f'CLIENT {client.id} FINISHED SERVING')"
   ]
  },
  {
   "cell_type": "code",
   "execution_count": 17,
   "metadata": {},
   "outputs": [
    {
     "name": "stdout",
     "output_type": "stream",
     "text": [
      "CLIENT 1 STARTED SERVING\n",
      "client 1 is starting serving on the 1 chair\n",
      "client 1 finished serving on the 1 chair\n",
      "client 1 is starting serving on the 2 chair\n",
      "CLIENT 2 STARTED SERVING\n",
      "client 2 is starting serving on the 1 chair\n",
      "client 2 finished serving on the 1 chair\n",
      "client 2 is waiting for chair 2\n",
      "CLIENT 3 WAS REJECTED\n",
      "CLIENT 4 WAS REJECTED\n",
      "CLIENT 5 WAS REJECTED\n",
      "CLIENT 6 WAS REJECTED\n",
      "CLIENT 7 WAS REJECTED\n",
      "CLIENT 8 WAS REJECTED\n",
      "CLIENT 9 WAS REJECTED\n",
      "CLIENT 10 WAS REJECTED\n",
      "CLIENT 11 WAS REJECTED\n",
      "CLIENT 12 WAS REJECTED\n",
      "CLIENT 13 WAS REJECTED\n",
      "client 1 finished serving on the 2 chair\n",
      "CLIENT 1 FINISHED SERVING\n",
      "client 2 is starting serving on the 2 chair\n",
      "CLIENT 14 STARTED SERVING\n",
      "client 14 is starting serving on the 1 chair\n",
      "CLIENT 15 WAS REJECTED\n",
      "CLIENT 16 WAS REJECTED\n",
      "CLIENT 17 WAS REJECTED\n",
      "client 14 finished serving on the 1 chair\n",
      "client 14 is waiting for chair 2\n",
      "CLIENT 18 WAS REJECTED\n",
      "CLIENT 19 WAS REJECTED\n",
      "CLIENT 20 WAS REJECTED\n",
      "client 2 finished serving on the 2 chair\n",
      "CLIENT 2 FINISHED SERVINGclient 14 is starting serving on the 2 chair\n",
      "\n",
      "client 14 finished serving on the 2 chair\n",
      "CLIENT 14 FINISHED SERVING\n",
      "Serving finished\n"
     ]
    }
   ],
   "source": [
    "chair1 = Chair1()\n",
    "chair2 = Chair2()\n",
    "\n",
    "for i in range(N_CLIENTS):\n",
    "    random.seed()\n",
    "    ksi = random.expovariate(LAMBDA)\n",
    "    time.sleep(ksi)\n",
    "    if not chair1.is_busy:\n",
    "        x = threading.Thread(target=serving, args=(Client(i + 1), chair1, chair2))\n",
    "        x.start()\n",
    "    else:\n",
    "        if LOGGING:\n",
    "            print(f'CLIENT {i + 1} WAS REJECTED')\n",
    "    \n",
    "x.join()\n",
    "\n",
    "print(\"Serving finished\")"
   ]
  }
 ],
 "metadata": {
  "kernelspec": {
   "display_name": "base",
   "language": "python",
   "name": "python3"
  },
  "language_info": {
   "codemirror_mode": {
    "name": "ipython",
    "version": 3
   },
   "file_extension": ".py",
   "mimetype": "text/x-python",
   "name": "python",
   "nbconvert_exporter": "python",
   "pygments_lexer": "ipython3",
   "version": "3.9.12"
  },
  "orig_nbformat": 4
 },
 "nbformat": 4,
 "nbformat_minor": 2
}
