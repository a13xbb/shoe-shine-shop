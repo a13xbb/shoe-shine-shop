{
 "cells": [
  {
   "attachments": {},
   "cell_type": "markdown",
   "metadata": {},
   "source": [
    "TODO:\n",
    "1. Найти распределение вероятностей для каждого состояния\n",
    "2. Построить график количества людей в системе от времени\n",
    "3. Построить график среднего времени нахождения клиента в системе от времени"
   ]
  },
  {
   "cell_type": "code",
   "execution_count": 43,
   "metadata": {},
   "outputs": [],
   "source": [
    "import threading\n",
    "import random\n",
    "import time\n",
    "from tqdm import tqdm"
   ]
  },
  {
   "cell_type": "code",
   "execution_count": 44,
   "metadata": {},
   "outputs": [],
   "source": [
    "N_CLIENTS = 500\n",
    "\n",
    "LAMBDA = 0.5\n",
    "MU1 = 0.9\n",
    "MU2 = 0.2\n",
    "\n",
    "LOGGING = False\n",
    "\n",
    "clients_list = []\n",
    "\n",
    "event = threading.Event()\n",
    "event.set()"
   ]
  },
  {
   "cell_type": "code",
   "execution_count": 45,
   "metadata": {},
   "outputs": [],
   "source": [
    "\n",
    "timings = []\n",
    "\n",
    "def get_state(chair1, chair2) -> str:\n",
    "    if (not chair1.is_busy and not chair2.is_busy):\n",
    "        return '00'\n",
    "    if (not chair1.is_busy and chair2.is_busy):\n",
    "        return '01'\n",
    "    if (chair1.is_busy and not chair2.is_busy):\n",
    "        return '10'\n",
    "    if(chair1.is_blocked and chair2.is_busy):\n",
    "        return 'b1'\n",
    "    if (chair1.is_busy and chair2.is_busy):\n",
    "        return '11'"
   ]
  },
  {
   "cell_type": "code",
   "execution_count": 46,
   "metadata": {},
   "outputs": [],
   "source": [
    "class Client:\n",
    "    def __init__(self, id):\n",
    "        self.id = id\n",
    "        self.start_time = None\n",
    "        self.finish_time = None\n"
   ]
  },
  {
   "cell_type": "code",
   "execution_count": 47,
   "metadata": {},
   "outputs": [],
   "source": [
    "class Chair1:\n",
    "    def __init__(self):\n",
    "        self.is_busy = False\n",
    "        self.is_blocked = False\n",
    "    \n",
    "    def serving(self, client: Client):\n",
    "        random.seed()\n",
    "        ksi = random.expovariate(MU1)\n",
    "        self.is_busy = True\n",
    "        if LOGGING:\n",
    "            print(f'client {client.id} is starting serving on the 1 chair')\n",
    "        time.sleep(ksi)\n",
    "        if LOGGING:\n",
    "            print(f'client {client.id} finished serving on the 1 chair')\n",
    "        return ksi\n",
    "    "
   ]
  },
  {
   "cell_type": "code",
   "execution_count": 48,
   "metadata": {},
   "outputs": [],
   "source": [
    "class Chair2:\n",
    "    def __init__(self):\n",
    "        self.is_busy = False\n",
    "    \n",
    "    def serving(self, client: Client):\n",
    "        random.seed()\n",
    "        ksi = random.expovariate(MU2)\n",
    "        self.is_busy = True\n",
    "        if LOGGING:\n",
    "            print(f'client {client.id} is starting serving on the 2 chair')\n",
    "        time.sleep(ksi)\n",
    "        if LOGGING:\n",
    "            print(f'client {client.id} finished serving on the 2 chair')\n",
    "        return ksi"
   ]
  },
  {
   "cell_type": "code",
   "execution_count": 49,
   "metadata": {},
   "outputs": [],
   "source": [
    "def append_timing(timings: list, state: str, time):\n",
    "    if len(timings) != 0 and timings[-1][0] == state:\n",
    "        timings.pop()\n",
    "    timings.append((state, time))"
   ]
  },
  {
   "cell_type": "code",
   "execution_count": 50,
   "metadata": {},
   "outputs": [],
   "source": [
    "def serving(client: Client, chair1: Chair1, chair2: Chair2, start_time):\n",
    "    # if LOGGING:\n",
    "    #     print(f'CLIENT {client.id} STARTED SERVING')\n",
    "    client.start_time = start_time\n",
    "\n",
    "    t = time.time() - start_time\n",
    "    append_timing(timings, get_state(chair1, chair2), t)\n",
    "    t_1 = t+chair1.serving(client)\n",
    "    append_timing(timings, get_state(chair1, chair2), t_1)\n",
    "\n",
    "    if not event.is_set():\n",
    "        chair1.is_blocked = True\n",
    "        # if LOGGING:\n",
    "        #     print(f'client {client.id} is waiting for chair 2')\n",
    "\n",
    "    t = time.time() - start_time\n",
    "    event.wait()\n",
    "    event.clear()\n",
    "    t_w = time.time() - t\n",
    "\n",
    "    t = time.time() - start_time\n",
    "    append_timing(timings, get_state(chair1, chair2), t)\n",
    "    chair1.is_busy = False\n",
    "    chair1.is_blocked = False\n",
    "    t_2 = t+chair2.serving(client)\n",
    "    append_timing(timings, get_state(chair1, chair2), t_2)\n",
    "    \n",
    "    chair2.is_busy = False\n",
    "    \n",
    "    event.set()\n",
    "    client.finish_time = t_2\n",
    "    clients_list.append(client)\n"
   ]
  },
  {
   "cell_type": "code",
   "execution_count": 51,
   "metadata": {},
   "outputs": [
    {
     "name": "stderr",
     "output_type": "stream",
     "text": [
      " 30%|██▉       | 149/500 [04:50<11:59,  2.05s/it]"
     ]
    }
   ],
   "source": [
    "chair1 = Chair1()\n",
    "chair2 = Chair2()\n",
    "\n",
    "serving_start = time.time()\n",
    "\n",
    "start_time = time.time()\n",
    "\n",
    "for i in tqdm(range(N_CLIENTS)):\n",
    "    random.seed()\n",
    "    ksi = random.expovariate(LAMBDA)\n",
    "    time.sleep(ksi)\n",
    "    if not chair1.is_busy:\n",
    "        x = threading.Thread(target=serving, args=(Client(i + 1), chair1, chair2, start_time))\n",
    "        x.start()   \n",
    "    # else:\n",
    "    #     if LOGGING:\n",
    "    #         print(f'CLIENT {i + 1} WAS REJECTED')\n",
    "    \n",
    "x.join()\n",
    "# serving_end = time.time()\n",
    "\n",
    "\n",
    "total_time = clients_list[-1].finish_time\n",
    "\n",
    "# if LOGGING:\n",
    "#     print(f'Serving finished, total time: {total_time}')\n",
    "#     for client in clients_list: \n",
    "#         print(f'id: {client.id}, time in system: {client.finish_time - client.start_time}')"
   ]
  },
  {
   "cell_type": "code",
   "execution_count": null,
   "metadata": {},
   "outputs": [
    {
     "name": "stdout",
     "output_type": "stream",
     "text": [
      "pi_00 ~ 0.049\n",
      "pi_10 ~ 0.030\n",
      "pi_01 ~ 0.229\n",
      "pi_11 ~ 0.188\n",
      "pi_b1 ~ 0.504\n"
     ]
    }
   ],
   "source": [
    "probs = {'00': .0,\n",
    "         '10': .0,\n",
    "         '01': .0,\n",
    "         '11': .0,\n",
    "         'b1': .0}\n",
    "\n",
    "prev_time = 0\n",
    "for item in timings:\n",
    "    state = item[0]\n",
    "    time = item[1]\n",
    "    probs[state] += (time - prev_time) / total_time\n",
    "    prev_time = time  \n",
    "    \n",
    "for k,v in probs.items():\n",
    "    print(f'pi_{k} ~ {v:.3f}')    "
   ]
  },
  {
   "attachments": {
    "image.png": {
     "image/png": "[encoded data removed]"
    }
   },
   "cell_type": "markdown",
   "metadata": {},
   "source": [
    "![image.png](attachment:image.png)"
   ]
  }
 ],
 "metadata": {
  "kernelspec": {
   "display_name": "base",
   "language": "python",
   "name": "python3"
  },
  "language_info": {
   "codemirror_mode": {
    "name": "ipython",
    "version": 3
   },
   "file_extension": ".py",
   "mimetype": "text/x-python",
   "name": "python",
   "nbconvert_exporter": "python",
   "pygments_lexer": "ipython3",
   "version": "3.10.10"
  },
  "orig_nbformat": 4
 },
 "nbformat": 4,
 "nbformat_minor": 2
}
